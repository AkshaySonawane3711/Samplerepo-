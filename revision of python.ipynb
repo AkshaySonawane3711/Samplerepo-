{
 "cells": [
  {
   "cell_type": "code",
   "execution_count": 1,
   "metadata": {},
   "outputs": [
    {
     "name": "stdout",
     "output_type": "stream",
     "text": [
      "Requirement already satisfied: pandas in c:\\users\\akshay sonawane\\anaconda3\\lib\\site-packages (1.1.3)\n",
      "Requirement already satisfied: numpy>=1.15.4 in c:\\users\\akshay sonawane\\anaconda3\\lib\\site-packages (from pandas) (1.19.2)\n",
      "Requirement already satisfied: python-dateutil>=2.7.3 in c:\\users\\akshay sonawane\\anaconda3\\lib\\site-packages (from pandas) (2.8.1)\n",
      "Requirement already satisfied: pytz>=2017.2 in c:\\users\\akshay sonawane\\anaconda3\\lib\\site-packages (from pandas) (2020.1)\n",
      "Requirement already satisfied: six>=1.5 in c:\\users\\akshay sonawane\\anaconda3\\lib\\site-packages (from python-dateutil>=2.7.3->pandas) (1.15.0)\n"
     ]
    }
   ],
   "source": [
    "!pip install pandas "
   ]
  },
  {
   "cell_type": "code",
   "execution_count": 3,
   "metadata": {},
   "outputs": [
    {
     "name": "stdout",
     "output_type": "stream",
     "text": [
      "Requirement already satisfied: jupyter_contrib_nbextensions in c:\\users\\akshay sonawane\\anaconda3\\lib\\site-packages (0.5.1)\n",
      "Requirement already satisfied: lxml in c:\\users\\akshay sonawane\\anaconda3\\lib\\site-packages (from jupyter_contrib_nbextensions) (4.6.1)\n",
      "Requirement already satisfied: jupyter-core in c:\\users\\akshay sonawane\\anaconda3\\lib\\site-packages (from jupyter_contrib_nbextensions) (4.6.3)\n",
      "Requirement already satisfied: pyyaml in c:\\users\\akshay sonawane\\anaconda3\\lib\\site-packages (from jupyter_contrib_nbextensions) (5.3.1)\n",
      "Requirement already satisfied: jupyter-nbextensions-configurator>=0.4.0 in c:\\users\\akshay sonawane\\anaconda3\\lib\\site-packages (from jupyter_contrib_nbextensions) (0.4.1)\n",
      "Requirement already satisfied: jupyter-latex-envs>=1.3.8 in c:\\users\\akshay sonawane\\anaconda3\\lib\\site-packages (from jupyter_contrib_nbextensions) (1.4.6)\n",
      "Requirement already satisfied: nbconvert>=4.2 in c:\\users\\akshay sonawane\\anaconda3\\lib\\site-packages (from jupyter_contrib_nbextensions) (6.0.7)\n",
      "Requirement already satisfied: ipython-genutils in c:\\users\\akshay sonawane\\anaconda3\\lib\\site-packages (from jupyter_contrib_nbextensions) (0.2.0)\n",
      "Requirement already satisfied: tornado in c:\\users\\akshay sonawane\\anaconda3\\lib\\site-packages (from jupyter_contrib_nbextensions) (6.0.4)\n",
      "Requirement already satisfied: traitlets>=4.1 in c:\\users\\akshay sonawane\\anaconda3\\lib\\site-packages (from jupyter_contrib_nbextensions) (5.0.5)\n",
      "Requirement already satisfied: jupyter-contrib-core>=0.3.3 in c:\\users\\akshay sonawane\\anaconda3\\lib\\site-packages (from jupyter_contrib_nbextensions) (0.3.3)\n",
      "Requirement already satisfied: jupyter-highlight-selected-word>=0.1.1 in c:\\users\\akshay sonawane\\anaconda3\\lib\\site-packages (from jupyter_contrib_nbextensions) (0.2.0)\n",
      "Requirement already satisfied: notebook>=4.0 in c:\\users\\akshay sonawane\\anaconda3\\lib\\site-packages (from jupyter_contrib_nbextensions) (6.1.4)\n",
      "Requirement already satisfied: pywin32>=1.0; sys_platform == \"win32\" in c:\\users\\akshay sonawane\\anaconda3\\lib\\site-packages (from jupyter-core->jupyter_contrib_nbextensions) (227)\n",
      "Requirement already satisfied: ipython in c:\\users\\akshay sonawane\\anaconda3\\lib\\site-packages (from jupyter-latex-envs>=1.3.8->jupyter_contrib_nbextensions) (7.19.0)\n",
      "Requirement already satisfied: pygments>=2.4.1 in c:\\users\\akshay sonawane\\anaconda3\\lib\\site-packages (from nbconvert>=4.2->jupyter_contrib_nbextensions) (2.7.2)\n",
      "Requirement already satisfied: entrypoints>=0.2.2 in c:\\users\\akshay sonawane\\anaconda3\\lib\\site-packages (from nbconvert>=4.2->jupyter_contrib_nbextensions) (0.3)\n",
      "Requirement already satisfied: bleach in c:\\users\\akshay sonawane\\anaconda3\\lib\\site-packages (from nbconvert>=4.2->jupyter_contrib_nbextensions) (3.2.1)\n",
      "Requirement already satisfied: testpath in c:\\users\\akshay sonawane\\anaconda3\\lib\\site-packages (from nbconvert>=4.2->jupyter_contrib_nbextensions) (0.4.4)\n",
      "Requirement already satisfied: pandocfilters>=1.4.1 in c:\\users\\akshay sonawane\\anaconda3\\lib\\site-packages (from nbconvert>=4.2->jupyter_contrib_nbextensions) (1.4.3)\n",
      "Requirement already satisfied: defusedxml in c:\\users\\akshay sonawane\\anaconda3\\lib\\site-packages (from nbconvert>=4.2->jupyter_contrib_nbextensions) (0.6.0)\n",
      "Requirement already satisfied: jinja2>=2.4 in c:\\users\\akshay sonawane\\anaconda3\\lib\\site-packages (from nbconvert>=4.2->jupyter_contrib_nbextensions) (2.11.2)\n",
      "Requirement already satisfied: nbclient<0.6.0,>=0.5.0 in c:\\users\\akshay sonawane\\anaconda3\\lib\\site-packages (from nbconvert>=4.2->jupyter_contrib_nbextensions) (0.5.1)\n",
      "Requirement already satisfied: nbformat>=4.4 in c:\\users\\akshay sonawane\\anaconda3\\lib\\site-packages (from nbconvert>=4.2->jupyter_contrib_nbextensions) (5.0.8)\n",
      "Requirement already satisfied: jupyterlab-pygments in c:\\users\\akshay sonawane\\anaconda3\\lib\\site-packages (from nbconvert>=4.2->jupyter_contrib_nbextensions) (0.1.2)\n",
      "Requirement already satisfied: mistune<2,>=0.8.1 in c:\\users\\akshay sonawane\\anaconda3\\lib\\site-packages (from nbconvert>=4.2->jupyter_contrib_nbextensions) (0.8.4)\n",
      "Requirement already satisfied: setuptools in c:\\users\\akshay sonawane\\anaconda3\\lib\\site-packages (from jupyter-contrib-core>=0.3.3->jupyter_contrib_nbextensions) (50.3.1.post20201107)\n",
      "Requirement already satisfied: ipykernel in c:\\users\\akshay sonawane\\anaconda3\\lib\\site-packages (from notebook>=4.0->jupyter_contrib_nbextensions) (5.3.4)\n",
      "Requirement already satisfied: terminado>=0.8.3 in c:\\users\\akshay sonawane\\anaconda3\\lib\\site-packages (from notebook>=4.0->jupyter_contrib_nbextensions) (0.9.1)\n",
      "Requirement already satisfied: argon2-cffi in c:\\users\\akshay sonawane\\anaconda3\\lib\\site-packages (from notebook>=4.0->jupyter_contrib_nbextensions) (20.1.0)\n",
      "Requirement already satisfied: jupyter-client>=5.3.4 in c:\\users\\akshay sonawane\\anaconda3\\lib\\site-packages (from notebook>=4.0->jupyter_contrib_nbextensions) (6.1.7)\n",
      "Requirement already satisfied: pyzmq>=17 in c:\\users\\akshay sonawane\\anaconda3\\lib\\site-packages (from notebook>=4.0->jupyter_contrib_nbextensions) (19.0.2)\n",
      "Requirement already satisfied: Send2Trash in c:\\users\\akshay sonawane\\anaconda3\\lib\\site-packages (from notebook>=4.0->jupyter_contrib_nbextensions) (1.5.0)\n",
      "Requirement already satisfied: prometheus-client in c:\\users\\akshay sonawane\\anaconda3\\lib\\site-packages (from notebook>=4.0->jupyter_contrib_nbextensions) (0.8.0)\n",
      "Requirement already satisfied: colorama; sys_platform == \"win32\" in c:\\users\\akshay sonawane\\anaconda3\\lib\\site-packages (from ipython->jupyter-latex-envs>=1.3.8->jupyter_contrib_nbextensions) (0.4.4)\n",
      "Requirement already satisfied: backcall in c:\\users\\akshay sonawane\\anaconda3\\lib\\site-packages (from ipython->jupyter-latex-envs>=1.3.8->jupyter_contrib_nbextensions) (0.2.0)\n",
      "Requirement already satisfied: pickleshare in c:\\users\\akshay sonawane\\anaconda3\\lib\\site-packages (from ipython->jupyter-latex-envs>=1.3.8->jupyter_contrib_nbextensions) (0.7.5)\n",
      "Requirement already satisfied: decorator in c:\\users\\akshay sonawane\\anaconda3\\lib\\site-packages (from ipython->jupyter-latex-envs>=1.3.8->jupyter_contrib_nbextensions) (4.4.2)\n",
      "Requirement already satisfied: prompt-toolkit!=3.0.0,!=3.0.1,<3.1.0,>=2.0.0 in c:\\users\\akshay sonawane\\anaconda3\\lib\\site-packages (from ipython->jupyter-latex-envs>=1.3.8->jupyter_contrib_nbextensions) (3.0.8)\n",
      "Requirement already satisfied: jedi>=0.10 in c:\\users\\akshay sonawane\\anaconda3\\lib\\site-packages (from ipython->jupyter-latex-envs>=1.3.8->jupyter_contrib_nbextensions) (0.17.1)\n",
      "Requirement already satisfied: webencodings in c:\\users\\akshay sonawane\\anaconda3\\lib\\site-packages (from bleach->nbconvert>=4.2->jupyter_contrib_nbextensions) (0.5.1)\n",
      "Requirement already satisfied: six>=1.9.0 in c:\\users\\akshay sonawane\\anaconda3\\lib\\site-packages (from bleach->nbconvert>=4.2->jupyter_contrib_nbextensions) (1.15.0)\n",
      "Requirement already satisfied: packaging in c:\\users\\akshay sonawane\\anaconda3\\lib\\site-packages (from bleach->nbconvert>=4.2->jupyter_contrib_nbextensions) (20.4)\n",
      "Requirement already satisfied: MarkupSafe>=0.23 in c:\\users\\akshay sonawane\\anaconda3\\lib\\site-packages (from jinja2>=2.4->nbconvert>=4.2->jupyter_contrib_nbextensions) (1.1.1)\n",
      "Requirement already satisfied: async-generator in c:\\users\\akshay sonawane\\anaconda3\\lib\\site-packages (from nbclient<0.6.0,>=0.5.0->nbconvert>=4.2->jupyter_contrib_nbextensions) (1.10)\n",
      "Requirement already satisfied: nest-asyncio in c:\\users\\akshay sonawane\\anaconda3\\lib\\site-packages (from nbclient<0.6.0,>=0.5.0->nbconvert>=4.2->jupyter_contrib_nbextensions) (1.4.2)\n",
      "Requirement already satisfied: jsonschema!=2.5.0,>=2.4 in c:\\users\\akshay sonawane\\anaconda3\\lib\\site-packages (from nbformat>=4.4->nbconvert>=4.2->jupyter_contrib_nbextensions) (3.2.0)\n",
      "Requirement already satisfied: pywinpty>=0.5 in c:\\users\\akshay sonawane\\anaconda3\\lib\\site-packages (from terminado>=0.8.3->notebook>=4.0->jupyter_contrib_nbextensions) (0.5.7)\n",
      "Requirement already satisfied: cffi>=1.0.0 in c:\\users\\akshay sonawane\\anaconda3\\lib\\site-packages (from argon2-cffi->notebook>=4.0->jupyter_contrib_nbextensions) (1.14.3)\n",
      "Requirement already satisfied: python-dateutil>=2.1 in c:\\users\\akshay sonawane\\anaconda3\\lib\\site-packages (from jupyter-client>=5.3.4->notebook>=4.0->jupyter_contrib_nbextensions) (2.8.1)\n",
      "Requirement already satisfied: wcwidth in c:\\users\\akshay sonawane\\anaconda3\\lib\\site-packages (from prompt-toolkit!=3.0.0,!=3.0.1,<3.1.0,>=2.0.0->ipython->jupyter-latex-envs>=1.3.8->jupyter_contrib_nbextensions) (0.2.5)\n",
      "Requirement already satisfied: parso<0.8.0,>=0.7.0 in c:\\users\\akshay sonawane\\anaconda3\\lib\\site-packages (from jedi>=0.10->ipython->jupyter-latex-envs>=1.3.8->jupyter_contrib_nbextensions) (0.7.0)\n",
      "Requirement already satisfied: pyparsing>=2.0.2 in c:\\users\\akshay sonawane\\anaconda3\\lib\\site-packages (from packaging->bleach->nbconvert>=4.2->jupyter_contrib_nbextensions) (2.4.7)\n",
      "Requirement already satisfied: attrs>=17.4.0 in c:\\users\\akshay sonawane\\anaconda3\\lib\\site-packages (from jsonschema!=2.5.0,>=2.4->nbformat>=4.4->nbconvert>=4.2->jupyter_contrib_nbextensions) (20.3.0)\n",
      "Requirement already satisfied: pyrsistent>=0.14.0 in c:\\users\\akshay sonawane\\anaconda3\\lib\\site-packages (from jsonschema!=2.5.0,>=2.4->nbformat>=4.4->nbconvert>=4.2->jupyter_contrib_nbextensions) (0.17.3)\n",
      "Requirement already satisfied: pycparser in c:\\users\\akshay sonawane\\anaconda3\\lib\\site-packages (from cffi>=1.0.0->argon2-cffi->notebook>=4.0->jupyter_contrib_nbextensions) (2.20)\n"
     ]
    }
   ],
   "source": [
    "!pip install jupyter_contrib_nbextensions"
   ]
  },
  {
   "cell_type": "code",
   "execution_count": 32,
   "metadata": {},
   "outputs": [],
   "source": [
    "import pandas as pd \n",
    "import matplotlib.pyplot as plt\n",
    "import seaborn as sns\n",
    "import numpy\n",
    "import numpy as np \n",
    "import random as rn\n",
    "import functools\n",
    "import re\n",
    "\n",
    "import warnings\n",
    "warnings.filterwarnings('ignore')"
   ]
  },
  {
   "cell_type": "code",
   "execution_count": 13,
   "metadata": {},
   "outputs": [
    {
     "name": "stdout",
     "output_type": "stream",
     "text": [
      "task 1: \n",
      "1.1.3\n"
     ]
    }
   ],
   "source": [
    "#task 1 check version of pandas \n",
    "print('task 1: ')\n",
    "print(pd.__version__)"
   ]
  },
  {
   "cell_type": "code",
   "execution_count": 50,
   "metadata": {},
   "outputs": [
    {
     "name": "stdout",
     "output_type": "stream",
     "text": [
      "task 2:\n",
      "    Col1  Col2  Col3\n",
      "0      0   0.0   0.0\n",
      "1      0   0.0   0.0\n",
      "2      0   0.0   0.0\n",
      "3      0   0.0   0.0\n",
      "4      0   0.0   0.0\n",
      "5      0   0.0   0.0\n",
      "6      0   0.0   0.0\n",
      "7      0   0.0   0.0\n",
      "8      0   0.0   0.0\n",
      "9      0   0.0   0.0\n",
      "10     0   0.0   0.0\n",
      "11     0   0.0   0.0\n",
      "12     0   0.0   0.0\n",
      "13     0   0.0   0.0\n",
      "14     0   0.0   0.0\n",
      "15     0   0.0   0.0\n",
      "16     0   0.0   0.0\n",
      "17     0   0.0   0.0\n",
      "18     0   0.0   0.0\n",
      "19     0   0.0   0.0\n"
     ]
    }
   ],
   "source": [
    "print('task 2:')\n",
    "dtype = [('Col1','int32'), ('Col2', 'float32'),('Col3','float32')]\n",
    "values = numpy.zeros(20, dtype=dtype)\n",
    "#index = ['Row'+ str(i) for i in range(1, len(values) + 1)]\n",
    "\n",
    "df = pd.DataFrame(values,index=index)\n",
    "print(df)"
   ]
  },
  {
   "cell_type": "code",
   "execution_count": 51,
   "metadata": {},
   "outputs": [
    {
     "name": "stdout",
     "output_type": "stream",
     "text": [
      "task 2:\n",
      "    Col1  Col2  Col3\n",
      "0      0   0.0   0.0\n",
      "1      0   0.0   0.0\n",
      "2      0   0.0   0.0\n",
      "3      0   0.0   0.0\n",
      "4      0   0.0   0.0\n",
      "5      0   0.0   0.0\n",
      "6      0   0.0   0.0\n",
      "7      0   0.0   0.0\n",
      "8      0   0.0   0.0\n",
      "9      0   0.0   0.0\n",
      "10     0   0.0   0.0\n",
      "11     0   0.0   0.0\n",
      "12     0   0.0   0.0\n",
      "13     0   0.0   0.0\n",
      "14     0   0.0   0.0\n",
      "15     0   0.0   0.0\n",
      "16     0   0.0   0.0\n",
      "17     0   0.0   0.0\n",
      "18     0   0.0   0.0\n",
      "19     0   0.0   0.0\n"
     ]
    }
   ],
   "source": [
    "print('task 2:')\n",
    "dtype = [('Col1','int32'), ('Col2', 'float32'),('Col3','float32')]\n",
    "values = numpy.zeros(20, dtype=dtype)\n",
    "#index = ['Row'+ str(i) for i in range(1, len(values) + 1)]\n",
    "\n",
    "df = pd.DataFrame(values)#index=index\n",
    "print(df)"
   ]
  },
  {
   "cell_type": "code",
   "execution_count": null,
   "metadata": {},
   "outputs": [],
   "source": []
  }
 ],
 "metadata": {
  "kernelspec": {
   "display_name": "Python 3",
   "language": "python",
   "name": "python3"
  },
  "language_info": {
   "codemirror_mode": {
    "name": "ipython",
    "version": 3
   },
   "file_extension": ".py",
   "mimetype": "text/x-python",
   "name": "python",
   "nbconvert_exporter": "python",
   "pygments_lexer": "ipython3",
   "version": "3.8.5"
  }
 },
 "nbformat": 4,
 "nbformat_minor": 4
}
